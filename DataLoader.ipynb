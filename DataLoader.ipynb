{
 "cells": [
  {
   "cell_type": "code",
   "execution_count": 1,
   "id": "237b1121",
   "metadata": {
    "execution": {
     "iopub.execute_input": "2023-12-06T12:41:59.740916Z",
     "iopub.status.busy": "2023-12-06T12:41:59.740333Z",
     "iopub.status.idle": "2023-12-06T12:42:25.192931Z",
     "shell.execute_reply": "2023-12-06T12:42:25.191713Z"
    },
    "papermill": {
     "duration": 25.459569,
     "end_time": "2023-12-06T12:42:25.195317",
     "exception": false,
     "start_time": "2023-12-06T12:41:59.735748",
     "status": "completed"
    },
    "tags": []
   },
   "outputs": [
    {
     "name": "stdout",
     "output_type": "stream",
     "text": [
      "Collecting awscli\r\n",
      "  Obtaining dependency information for awscli from https://files.pythonhosted.org/packages/77/91/c820310657eebce63fd00de2e20f2986017802add67e8e757b0aa0095d56/awscli-1.31.8-py3-none-any.whl.metadata\r\n",
      "  Downloading awscli-1.31.8-py3-none-any.whl.metadata (11 kB)\r\n",
      "Collecting botocore==1.33.8 (from awscli)\r\n",
      "  Obtaining dependency information for botocore==1.33.8 from https://files.pythonhosted.org/packages/9c/ef/c8e456190ddc75c842a7c5e0edb7875b75759980b2a985b7fdff038b9059/botocore-1.33.8-py3-none-any.whl.metadata\r\n",
      "  Downloading botocore-1.33.8-py3-none-any.whl.metadata (6.1 kB)\r\n",
      "Collecting docutils<0.17,>=0.10 (from awscli)\r\n",
      "  Downloading docutils-0.16-py2.py3-none-any.whl (548 kB)\r\n",
      "\u001b[2K     \u001b[90m━━━━━━━━━━━━━━━━━━━━━━━━━━━━━━━━━━━━━━\u001b[0m \u001b[32m548.2/548.2 kB\u001b[0m \u001b[31m17.4 MB/s\u001b[0m eta \u001b[36m0:00:00\u001b[0m\r\n",
      "\u001b[?25hCollecting s3transfer<0.9.0,>=0.8.0 (from awscli)\r\n",
      "  Obtaining dependency information for s3transfer<0.9.0,>=0.8.0 from https://files.pythonhosted.org/packages/75/ca/5399536cbd5889ca4532d4b8bbcd17efa0fe0be0da04e143667a4ff5644e/s3transfer-0.8.2-py3-none-any.whl.metadata\r\n",
      "  Downloading s3transfer-0.8.2-py3-none-any.whl.metadata (1.8 kB)\r\n",
      "Requirement already satisfied: PyYAML<6.1,>=3.10 in /opt/conda/lib/python3.10/site-packages (from awscli) (6.0.1)\r\n",
      "Collecting colorama<0.4.5,>=0.2.5 (from awscli)\r\n",
      "  Downloading colorama-0.4.4-py2.py3-none-any.whl (16 kB)\r\n",
      "Collecting rsa<4.8,>=3.1.2 (from awscli)\r\n",
      "  Downloading rsa-4.7.2-py3-none-any.whl (34 kB)\r\n",
      "Requirement already satisfied: jmespath<2.0.0,>=0.7.1 in /opt/conda/lib/python3.10/site-packages (from botocore==1.33.8->awscli) (1.0.1)\r\n",
      "Requirement already satisfied: python-dateutil<3.0.0,>=2.1 in /opt/conda/lib/python3.10/site-packages (from botocore==1.33.8->awscli) (2.8.2)\r\n",
      "Requirement already satisfied: urllib3<2.1,>=1.25.4 in /opt/conda/lib/python3.10/site-packages (from botocore==1.33.8->awscli) (1.26.15)\r\n",
      "Requirement already satisfied: pyasn1>=0.1.3 in /opt/conda/lib/python3.10/site-packages (from rsa<4.8,>=3.1.2->awscli) (0.4.8)\r\n",
      "Requirement already satisfied: six>=1.5 in /opt/conda/lib/python3.10/site-packages (from python-dateutil<3.0.0,>=2.1->botocore==1.33.8->awscli) (1.16.0)\r\n",
      "Downloading awscli-1.31.8-py3-none-any.whl (4.3 MB)\r\n",
      "\u001b[2K   \u001b[90m━━━━━━━━━━━━━━━━━━━━━━━━━━━━━━━━━━━━━━━━\u001b[0m \u001b[32m4.3/4.3 MB\u001b[0m \u001b[31m69.7 MB/s\u001b[0m eta \u001b[36m0:00:00\u001b[0m\r\n",
      "\u001b[?25hDownloading botocore-1.33.8-py3-none-any.whl (11.8 MB)\r\n",
      "\u001b[2K   \u001b[90m━━━━━━━━━━━━━━━━━━━━━━━━━━━━━━━━━━━━━━━━\u001b[0m \u001b[32m11.8/11.8 MB\u001b[0m \u001b[31m88.2 MB/s\u001b[0m eta \u001b[36m0:00:00\u001b[0m\r\n",
      "\u001b[?25hDownloading s3transfer-0.8.2-py3-none-any.whl (82 kB)\r\n",
      "\u001b[2K   \u001b[90m━━━━━━━━━━━━━━━━━━━━━━━━━━━━━━━━━━━━━━━━\u001b[0m \u001b[32m82.0/82.0 kB\u001b[0m \u001b[31m5.5 MB/s\u001b[0m eta \u001b[36m0:00:00\u001b[0m\r\n",
      "\u001b[?25hInstalling collected packages: rsa, docutils, colorama, botocore, s3transfer, awscli\r\n",
      "  Attempting uninstall: rsa\r\n",
      "    Found existing installation: rsa 4.9\r\n",
      "    Uninstalling rsa-4.9:\r\n",
      "      Successfully uninstalled rsa-4.9\r\n",
      "  Attempting uninstall: docutils\r\n",
      "    Found existing installation: docutils 0.20.1\r\n",
      "    Uninstalling docutils-0.20.1:\r\n",
      "      Successfully uninstalled docutils-0.20.1\r\n",
      "  Attempting uninstall: colorama\r\n",
      "    Found existing installation: colorama 0.4.6\r\n",
      "    Uninstalling colorama-0.4.6:\r\n",
      "      Successfully uninstalled colorama-0.4.6\r\n",
      "  Attempting uninstall: botocore\r\n",
      "    Found existing installation: botocore 1.31.64\r\n",
      "    Uninstalling botocore-1.31.64:\r\n",
      "      Successfully uninstalled botocore-1.31.64\r\n",
      "  Attempting uninstall: s3transfer\r\n",
      "    Found existing installation: s3transfer 0.6.2\r\n",
      "    Uninstalling s3transfer-0.6.2:\r\n",
      "      Successfully uninstalled s3transfer-0.6.2\r\n",
      "\u001b[31mERROR: pip's dependency resolver does not currently take into account all the packages that are installed. This behaviour is the source of the following dependency conflicts.\r\n",
      "aiobotocore 2.7.0 requires botocore<1.31.65,>=1.31.16, but you have botocore 1.33.8 which is incompatible.\r\n",
      "bayesian-optimization 1.4.3 requires colorama>=0.4.6, but you have colorama 0.4.4 which is incompatible.\r\n",
      "boto3 1.26.100 requires botocore<1.30.0,>=1.29.100, but you have botocore 1.33.8 which is incompatible.\r\n",
      "boto3 1.26.100 requires s3transfer<0.7.0,>=0.6.0, but you have s3transfer 0.8.2 which is incompatible.\r\n",
      "kfp 2.0.1 requires google-cloud-storage<3,>=2.2.1, but you have google-cloud-storage 1.44.0 which is incompatible.\r\n",
      "tensorflowjs 4.13.0 requires packaging~=23.1, but you have packaging 21.3 which is incompatible.\u001b[0m\u001b[31m\r\n",
      "\u001b[0mSuccessfully installed awscli-1.31.8 botocore-1.33.8 colorama-0.4.4 docutils-0.16 rsa-4.7.2 s3transfer-0.8.2\r\n"
     ]
    }
   ],
   "source": [
    "!pip install awscli"
   ]
  },
  {
   "cell_type": "code",
   "execution_count": 2,
   "id": "f52a2d21",
   "metadata": {
    "execution": {
     "iopub.execute_input": "2023-12-06T12:42:25.205673Z",
     "iopub.status.busy": "2023-12-06T12:42:25.205268Z",
     "iopub.status.idle": "2023-12-06T12:43:01.926948Z",
     "shell.execute_reply": "2023-12-06T12:43:01.925064Z"
    },
    "papermill": {
     "duration": 36.730235,
     "end_time": "2023-12-06T12:43:01.930011",
     "exception": false,
     "start_time": "2023-12-06T12:42:25.199776",
     "status": "completed"
    },
    "tags": []
   },
   "outputs": [
    {
     "name": "stdout",
     "output_type": "stream",
     "text": [
      "download: s3://rareplanes-public/real/tarballs/train/RarePlanes_train_geojson_aircraft_tiled.tar.gz to train/RarePlanes_train_geojson_aircraft_tiled.tar.gz\r\n",
      "download: s3://rareplanes-public/real/tarballs/train/RarePlanes_train_PS-RGB_tiled.tar.gz to train/RarePlanes_train_PS-RGB_tiled.tar.gz\r\n"
     ]
    }
   ],
   "source": [
    "!mkdir train\n",
    "!aws s3 cp --no-sign-request s3://rareplanes-public/real/tarballs/train/RarePlanes_train_geojson_aircraft_tiled.tar.gz train \n",
    "!aws s3 cp --no-sign-request s3://rareplanes-public/real/tarballs/train/RarePlanes_train_PS-RGB_tiled.tar.gz train"
   ]
  },
  {
   "cell_type": "code",
   "execution_count": 3,
   "id": "c8bb81bb",
   "metadata": {
    "execution": {
     "iopub.execute_input": "2023-12-06T12:43:02.017679Z",
     "iopub.status.busy": "2023-12-06T12:43:02.017273Z",
     "iopub.status.idle": "2023-12-06T12:43:15.194134Z",
     "shell.execute_reply": "2023-12-06T12:43:15.193074Z"
    },
    "papermill": {
     "duration": 13.233271,
     "end_time": "2023-12-06T12:43:15.196561",
     "exception": false,
     "start_time": "2023-12-06T12:43:01.963290",
     "status": "completed"
    },
    "tags": []
   },
   "outputs": [],
   "source": [
    "import tarfile\n",
    "tar1 = tarfile.open('./train/RarePlanes_train_PS-RGB_tiled.tar.gz', \"r:gz\")\n",
    "tar2 = tarfile.open('./train/RarePlanes_train_geojson_aircraft_tiled.tar.gz', \"r:gz\")\n",
    "tar1.extractall(path='./train')\n",
    "tar2.extractall(path='./train')\n",
    "tar1.close()\n",
    "tar2.close()"
   ]
  },
  {
   "cell_type": "code",
   "execution_count": 4,
   "id": "f1e3c667",
   "metadata": {
    "execution": {
     "iopub.execute_input": "2023-12-06T12:43:15.268580Z",
     "iopub.status.busy": "2023-12-06T12:43:15.268205Z",
     "iopub.status.idle": "2023-12-06T12:43:16.167132Z",
     "shell.execute_reply": "2023-12-06T12:43:16.165060Z"
    },
    "papermill": {
     "duration": 0.94022,
     "end_time": "2023-12-06T12:43:16.170266",
     "exception": false,
     "start_time": "2023-12-06T12:43:15.230046",
     "status": "completed"
    },
    "tags": []
   },
   "outputs": [],
   "source": [
    "!rm ./train/RarePlanes_train_PS-RGB_tiled.tar.gz\n",
    "!rm ./train/RarePlanes_train_geojson_aircraft_tiled.tar.gz"
   ]
  },
  {
   "cell_type": "code",
   "execution_count": 5,
   "id": "b432cf94",
   "metadata": {
    "_cell_guid": "b1076dfc-b9ad-4769-8c92-a6c4dae69d19",
    "_uuid": "8f2839f25d086af736a60e9eeb907d3b93b6e0e5",
    "execution": {
     "iopub.execute_input": "2023-12-06T12:43:16.245450Z",
     "iopub.status.busy": "2023-12-06T12:43:16.244841Z",
     "iopub.status.idle": "2023-12-06T12:43:43.139316Z",
     "shell.execute_reply": "2023-12-06T12:43:43.137944Z"
    },
    "papermill": {
     "duration": 26.93188,
     "end_time": "2023-12-06T12:43:43.142410",
     "exception": false,
     "start_time": "2023-12-06T12:43:16.210530",
     "status": "completed"
    },
    "tags": []
   },
   "outputs": [
    {
     "name": "stdout",
     "output_type": "stream",
     "text": [
      "download: s3://rareplanes-public/real/tarballs/test/RarePlanes_test_geojson_aircraft_tiled.tar.gz to test/RarePlanes_test_geojson_aircraft_tiled.tar.gz\r\n",
      "download: s3://rareplanes-public/real/tarballs/test/RarePlanes_test_PS-RGB_tiled.tar.gz to test/RarePlanes_test_PS-RGB_tiled.tar.gz\r\n"
     ]
    }
   ],
   "source": [
    "!mkdir test\n",
    "\n",
    "!aws s3 cp --no-sign-request s3://rareplanes-public/real/tarballs/test/RarePlanes_test_geojson_aircraft_tiled.tar.gz test \n",
    "!aws s3 cp --no-sign-request s3://rareplanes-public/real/tarballs/test/RarePlanes_test_PS-RGB_tiled.tar.gz test"
   ]
  },
  {
   "cell_type": "code",
   "execution_count": 6,
   "id": "45a81b6b",
   "metadata": {
    "execution": {
     "iopub.execute_input": "2023-12-06T12:43:43.232710Z",
     "iopub.status.busy": "2023-12-06T12:43:43.232254Z",
     "iopub.status.idle": "2023-12-06T12:43:48.909070Z",
     "shell.execute_reply": "2023-12-06T12:43:48.907490Z"
    },
    "papermill": {
     "duration": 5.725364,
     "end_time": "2023-12-06T12:43:48.911797",
     "exception": false,
     "start_time": "2023-12-06T12:43:43.186433",
     "status": "completed"
    },
    "tags": []
   },
   "outputs": [],
   "source": [
    "tar3 = tarfile.open('./test/RarePlanes_test_geojson_aircraft_tiled.tar.gz', \"r:gz\")\n",
    "tar4 = tarfile.open('./test/RarePlanes_test_PS-RGB_tiled.tar.gz', \"r:gz\")\n",
    "tar3.extractall('./test')\n",
    "tar4.extractall('./test')\n",
    "tar3.close()\n",
    "tar4.close()"
   ]
  },
  {
   "cell_type": "code",
   "execution_count": 7,
   "id": "59425577",
   "metadata": {
    "execution": {
     "iopub.execute_input": "2023-12-06T12:43:48.998151Z",
     "iopub.status.busy": "2023-12-06T12:43:48.997795Z",
     "iopub.status.idle": "2023-12-06T12:43:49.758784Z",
     "shell.execute_reply": "2023-12-06T12:43:49.757517Z"
    },
    "papermill": {
     "duration": 0.807123,
     "end_time": "2023-12-06T12:43:49.761150",
     "exception": false,
     "start_time": "2023-12-06T12:43:48.954027",
     "status": "completed"
    },
    "tags": []
   },
   "outputs": [],
   "source": [
    "!rm ./test/RarePlanes_test_geojson_aircraft_tiled.tar.gz\n",
    "!rm ./test/RarePlanes_test_PS-RGB_tiled.tar.gz"
   ]
  }
 ],
 "metadata": {
  "kaggle": {
   "accelerator": "none",
   "dataSources": [],
   "dockerImageVersionId": 30587,
   "isGpuEnabled": false,
   "isInternetEnabled": true,
   "language": "python",
   "sourceType": "notebook"
  },
  "kernelspec": {
   "display_name": "Python 3",
   "language": "python",
   "name": "python3"
  },
  "language_info": {
   "codemirror_mode": {
    "name": "ipython",
    "version": 3
   },
   "file_extension": ".py",
   "mimetype": "text/x-python",
   "name": "python",
   "nbconvert_exporter": "python",
   "pygments_lexer": "ipython3",
   "version": "3.10.12"
  },
  "papermill": {
   "default_parameters": {},
   "duration": 113.611401,
   "end_time": "2023-12-06T12:43:50.227353",
   "environment_variables": {},
   "exception": null,
   "input_path": "__notebook__.ipynb",
   "output_path": "__notebook__.ipynb",
   "parameters": {},
   "start_time": "2023-12-06T12:41:56.615952",
   "version": "2.4.0"
  }
 },
 "nbformat": 4,
 "nbformat_minor": 5
}
